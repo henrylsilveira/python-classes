{
 "cells": [
  {
   "cell_type": "markdown",
   "id": "a90c6d6d",
   "metadata": {},
   "source": [
    "## Introdução\n",
    "\n",
    "Faaala Dev,\n",
    "\n",
    "Nesse desafio você reforçará de forma prática os **conceitos** que aprendemos nesse módulo.\n",
    "\n",
    "Como se trata de um desafio, ele necessita de alguns conhecimentos além dos abordados nesse módulo, então é importante ter autonomia para conseguir pesquisar essas coisas caso não saiba como resolver. Por isso, lembre-se, t**enha calma** e **acredite no seu processo.**\n",
    "\n",
    "O aprendizado daqui é muito importante e com certeza você conseguirá sair com muito conhecimento bacana 💜\n",
    "\n",
    "## Sobre o desafio\n",
    "\n",
    "Nesse desafio desenvolveremos uma agenda para salvar, editar, deletar e marcar um contato como favorito. O resultado da aplicação deve ser apresentado no terminal, assim como foi visto no módulo “Introdução ao Python”.\n",
    "\n",
    "### Regras da aplicação\n",
    "\n",
    "- A aplicação deve iniciar mostrando uma lista de opções do que é possível fazer com o app e permitir que o usuário digite uma escolha para iniciar a aplicação.\n",
    "- Deve ser possível adicionar um contato\n",
    "    - O contato pode ter os dados:\n",
    "    - Nome\n",
    "    - Telefone\n",
    "    - Email\n",
    "    - Favorito (está opção é para poder marcar um contato como favorito)\n",
    "- Deve ser possível visualizar a lista de contatos cadastrados\n",
    "- Deve ser possível editar um contato\n",
    "- Deve ser possível marcar/desmarcar um contato como favorito\n",
    "- Deve ser possível ver uma lista de contatos favoritos\n",
    "- Deve ser possível apagar um contato\n",
    "\n",
    "## Entrega\n",
    "\n",
    "Após concluir o desafio, você deve enviar a URL do seu código no GitHub para a plataforma. \n",
    "\n",
    "Além disso, que tal fazer um post no LinkedIn compartilhando o seu aprendizado e contando como foi a experiência?\n",
    "\n",
    "É uma excelente forma de demonstrar seus conhecimentos e atrair novas oportunidades!\n",
    "\n",
    "Feito com 💜 por Rocketseat 👋"
   ]
  },
  {
   "cell_type": "code",
   "execution_count": null,
   "id": "823b8919",
   "metadata": {
    "vscode": {
     "languageId": "plaintext"
    }
   },
   "outputs": [],
   "source": []
  }
 ],
 "metadata": {
  "language_info": {
   "name": "python"
  }
 },
 "nbformat": 4,
 "nbformat_minor": 5
}
