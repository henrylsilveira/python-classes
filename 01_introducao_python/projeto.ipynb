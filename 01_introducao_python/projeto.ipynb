{
 "cells": [
  {
   "cell_type": "markdown",
   "id": "1c7d0aea",
   "metadata": {},
   "source": [
    "<span style=\"color:blue; font-size: 24px\">PROJETO MODULO 1</span>"
   ]
  },
  {
   "cell_type": "code",
   "execution_count": null,
   "id": "97588383",
   "metadata": {},
   "outputs": [
    {
     "name": "stdout",
     "output_type": "stream",
     "text": [
      "\n",
      " MENU DO GERENCIADOR DE TAREFA\n",
      "1 - Adicionar tarefa\n",
      "2 - Listar tarefas\n",
      "3 - Atualizar tarefa\n",
      "4 - Completar tarefa\n",
      "5 - Deletar tarefas completadas\n",
      "6 - Sair\n"
     ]
    },
    {
     "ename": "NameError",
     "evalue": "name 'clear_output' is not defined",
     "output_type": "error",
     "traceback": [
      "\u001b[31m---------------------------------------------------------------------------\u001b[39m",
      "\u001b[31mNameError\u001b[39m                                 Traceback (most recent call last)",
      "\u001b[36mCell\u001b[39m\u001b[36m \u001b[39m\u001b[32mIn[1]\u001b[39m\u001b[32m, line 45\u001b[39m\n\u001b[32m     43\u001b[39m \u001b[38;5;28mprint\u001b[39m(\u001b[33m\"\u001b[39m\u001b[33m5 - Deletar tarefas completadas\u001b[39m\u001b[33m\"\u001b[39m)\n\u001b[32m     44\u001b[39m \u001b[38;5;28mprint\u001b[39m(\u001b[33m\"\u001b[39m\u001b[33m6 - Sair\u001b[39m\u001b[33m\"\u001b[39m)\n\u001b[32m---> \u001b[39m\u001b[32m45\u001b[39m \u001b[43mclear_output\u001b[49m(wait=\u001b[38;5;28;01mTrue\u001b[39;00m)\n\u001b[32m     47\u001b[39m escolha = \u001b[38;5;28minput\u001b[39m(\u001b[33m\"\u001b[39m\u001b[33mEscolha uma opção: \u001b[39m\u001b[33m\"\u001b[39m)\n\u001b[32m     49\u001b[39m \u001b[38;5;28;01mif\u001b[39;00m escolha == \u001b[33m\"\u001b[39m\u001b[33m1\u001b[39m\u001b[33m\"\u001b[39m:\n",
      "\u001b[31mNameError\u001b[39m: name 'clear_output' is not defined"
     ]
    }
   ],
   "source": [
    "def adicionar_tarefa(tarefas, nome_tarefa):\n",
    "    tarefas.append({\"tarefa\": nome_tarefa, \"completada\": False})\n",
    "    print(f\"Tarefa \\\"{nome_tarefa}\\\" adicionada com sucesso!\")\n",
    "    return\n",
    "\n",
    "def ver_tarefas(tarefas):\n",
    "    print(\"\\nLista de tarefas:\")\n",
    "    for indice, tarefa in enumerate(tarefas, start=1):\n",
    "        status = \"✓\" if tarefa[\"completada\"] else \" \"\n",
    "        nome_tarefa = tarefa[\"tarefa\"]\n",
    "        print(f\"{indice}. [{status}] {nome_tarefa}\")\n",
    "    return\n",
    "\n",
    "def atualizar_nome_tarefa(tarefas, indice_tarefa, novo_nome_tarefa):\n",
    "  indice_tarefa_ajustado = int(indice_tarefa) - 1\n",
    "  if indice_tarefa_ajustado >= 0 and indice_tarefa_ajustado < len(tarefas):\n",
    "    tarefas[indice_tarefa_ajustado][\"tarefa\"] = novo_nome_tarefa\n",
    "    print(f\"Tarefa {indice_tarefa} atualizada para {novo_nome_tarefa}\")\n",
    "  else:\n",
    "    print(\"Índice de tarefas inválido.\")\n",
    "  return\n",
    "\n",
    "def completar_tarefa(tarefas, indice_tarefa):\n",
    "  indice_tarefa_ajustado = int(indice_tarefa) - 1\n",
    "  tarefas[indice_tarefa_ajustado][\"completada\"] = True\n",
    "  print(f\"Tarefa {indice_tarefa} marcada como completada\")\n",
    "  return\n",
    "\n",
    "def deletar_tarefas_completadas(tarefas):\n",
    "  for tarefa in tarefas:\n",
    "    if tarefa[\"completada\"]:\n",
    "      tarefas.remove(tarefa)\n",
    "  print(\"Tarefas completadas foram deletadas.\")\n",
    "  return\n",
    "\n",
    "tarefas = []\n",
    "while True:\n",
    "    print(\"\\n MENU DO GERENCIADOR DE TAREFA\")\n",
    "    print(\"1 - Adicionar tarefa\")\n",
    "    print(\"2 - Listar tarefas\")\n",
    "    print(\"3 - Atualizar tarefa\")\n",
    "    print(\"4 - Completar tarefa\")\n",
    "    print(\"5 - Deletar tarefas completadas\")\n",
    "    print(\"6 - Sair\")\n",
    "    \n",
    "\n",
    "    escolha = input(\"Escolha uma opção: \")\n",
    "\n",
    "    if escolha == \"1\":\n",
    "        nome_tarefa = input(\"Digite o nome da tarefa: \")\n",
    "        adicionar_tarefa(tarefas, nome_tarefa)\n",
    "\n",
    "    elif escolha == \"2\":\n",
    "        ver_tarefas(tarefas)\n",
    "    \n",
    "    elif escolha == \"3\":\n",
    "        ver_tarefas(tarefas)\n",
    "        indice_tarefa = input(\"Digite o número da tarefa que deseja atualizar: \")\n",
    "        novo_nome = input(\"Digite o novo nome da tarefa: \")\n",
    "        atualizar_nome_tarefa(tarefas, indice_tarefa, novo_nome)\n",
    "\n",
    "    elif escolha ==\"4\":\n",
    "        ver_tarefas(tarefas)\n",
    "        indice_tarefa = input(\"Digite o número da tarefa que deseja completar: \")\n",
    "        completar_tarefa(tarefas, indice_tarefa)\n",
    "    \n",
    "    elif escolha == \"5\":\n",
    "        deletar_tarefas_completadas(tarefas)\n",
    "        ver_tarefas(tarefas)\n",
    "\n",
    "    elif escolha == \"6\":\n",
    "        break\n",
    "\n",
    "print(\"Programa encerrado!\")"
   ]
  }
 ],
 "metadata": {
  "kernelspec": {
   "display_name": "python-classes",
   "language": "python",
   "name": "python3"
  },
  "language_info": {
   "codemirror_mode": {
    "name": "ipython",
    "version": 3
   },
   "file_extension": ".py",
   "mimetype": "text/x-python",
   "name": "python",
   "nbconvert_exporter": "python",
   "pygments_lexer": "ipython3",
   "version": "3.12.3"
  }
 },
 "nbformat": 4,
 "nbformat_minor": 5
}
