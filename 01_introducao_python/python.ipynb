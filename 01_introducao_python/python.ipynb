{
 "cells": [
  {
   "cell_type": "code",
   "execution_count": 1,
   "id": "a04e6123",
   "metadata": {},
   "outputs": [
    {
     "name": "stdout",
     "output_type": "stream",
     "text": [
      "Ola mundo\n"
     ]
    }
   ],
   "source": [
    "print(\"Ola mundo\")"
   ]
  },
  {
   "cell_type": "code",
   "execution_count": 2,
   "id": "841d7b1f",
   "metadata": {},
   "outputs": [
    {
     "name": "stdout",
     "output_type": "stream",
     "text": [
      "Maior de idade 34\n"
     ]
    }
   ],
   "source": [
    "# Importa biblioteca random\n",
    "import random\n",
    "\n",
    "idade = random.randint(0, 80)\n",
    "\n",
    "if idade > 18 and idade < 65:\n",
    "    print(\"Maior de idade\", idade)\n",
    "elif idade >= 65:\n",
    "    print(\"Idoso\", idade)\n",
    "else:\n",
    "    print(\"Menor de idade\", idade)\n",
    "\n"
   ]
  },
  {
   "cell_type": "code",
   "execution_count": 3,
   "id": "ff2cc6df",
   "metadata": {},
   "outputs": [
    {
     "name": "stdout",
     "output_type": "stream",
     "text": [
      "Henry Leão\n",
      "Henry Leão\n"
     ]
    }
   ],
   "source": [
    "#Snake Case\n",
    "nome_completo = \"Henry Leão\"\n",
    "print (nome_completo)\n",
    "\n",
    "#Camel Case\n",
    "nomeCompleto = \"Henry Leão\"\n",
    "print (nomeCompleto)"
   ]
  },
  {
   "cell_type": "code",
   "execution_count": 4,
   "id": "28dfd0ee",
   "metadata": {},
   "outputs": [
    {
     "name": "stdout",
     "output_type": "stream",
     "text": [
      "Nome completo (1a forma): Henry Leão 34\n",
      "Nome completo (2a forma): Henry Leão 34\n",
      "Nome completo (3a forma): Henry Leão 34\n"
     ]
    }
   ],
   "source": [
    "#Formatação\n",
    "nome_completo = \"Henry Leão\"\n",
    "print(\"Nome completo (1a forma): %s %d\" % (nome_completo, idade))\n",
    "print(f\"Nome completo (2a forma): {nome_completo} {idade}\")\n",
    "print(\"Nome completo (3a forma): {} {}\".format(nome_completo, idade))"
   ]
  },
  {
   "cell_type": "code",
   "execution_count": 5,
   "id": "0ed84df7",
   "metadata": {},
   "outputs": [
    {
     "data": {
      "text/plain": [
       "'Henry'"
      ]
     },
     "execution_count": 5,
     "metadata": {},
     "output_type": "execute_result"
    }
   ],
   "source": [
    "nome = \"Henry\"\n",
    "nome_defeito = \"xHenryx\"\n",
    "sobrenome = \"Leão\"\n",
    "\"-\".join(nome)\n",
    "nome_defeito.strip(\"x\")"
   ]
  },
  {
   "cell_type": "code",
   "execution_count": 6,
   "id": "4af05799",
   "metadata": {},
   "outputs": [
    {
     "data": {
      "text/plain": [
       "True"
      ]
     },
     "execution_count": 6,
     "metadata": {},
     "output_type": "execute_result"
    }
   ],
   "source": [
    "nome_completo.startswith(\"H\")\n",
    "\"en\" in nome_completo"
   ]
  },
  {
   "cell_type": "markdown",
   "id": "b173403a",
   "metadata": {},
   "source": [
    "## LISTAS"
   ]
  },
  {
   "cell_type": "code",
   "execution_count": 7,
   "id": "224996a6",
   "metadata": {},
   "outputs": [
    {
     "name": "stdout",
     "output_type": "stream",
     "text": [
      "[2, 3, 4, 5, 'rocketseat', True]\n",
      "[1, 2, 3, 4, 5, 'rocketseat']\n",
      "[3, 4, 5, 'rocketseat', True, False]\n"
     ]
    }
   ],
   "source": [
    "minha_lista_aula = [1, 2, 3, 4, 5, \"rocketseat\", True, False]\n",
    "minha_lista = [1, 2, 3, 4, 5]\n",
    "\n",
    "print(minha_lista_aula[1:7])\n",
    "print(minha_lista_aula[:6])\n",
    "print(minha_lista_aula[2:])\n"
   ]
  },
  {
   "cell_type": "code",
   "execution_count": 8,
   "id": "d8db678b",
   "metadata": {},
   "outputs": [
    {
     "name": "stdout",
     "output_type": "stream",
     "text": [
      "[1, 2, 'inserido', 5, 6]\n"
     ]
    }
   ],
   "source": [
    "minha_lista.append(6)\n",
    "minha_lista.insert(4, \"inserido\")\n",
    "minha_lista.remove(3)\n",
    "minha_lista.pop(2)\n",
    "print(minha_lista)"
   ]
  },
  {
   "cell_type": "markdown",
   "id": "2340e708",
   "metadata": {},
   "source": [
    "## TUPLAS"
   ]
  },
  {
   "cell_type": "code",
   "execution_count": 9,
   "id": "5eab142c",
   "metadata": {},
   "outputs": [
    {
     "name": "stdout",
     "output_type": "stream",
     "text": [
      "Quantidade que aparece o elemento 2: 2\n",
      "1\n"
     ]
    }
   ],
   "source": [
    "minha_tupla = ( 1, 2, 2, 3, 4)\n",
    "\n",
    "print(\"Quantidade que aparece o elemento 2:\", minha_tupla.count(2))\n",
    "print(minha_tupla.index(2))"
   ]
  },
  {
   "cell_type": "markdown",
   "id": "10716a5d",
   "metadata": {},
   "source": [
    "## DICIONARIOS"
   ]
  },
  {
   "cell_type": "code",
   "execution_count": 10,
   "id": "d9444211",
   "metadata": {},
   "outputs": [
    {
     "name": "stdout",
     "output_type": "stream",
     "text": [
      "Meu dicionario: {'nome': 'Henry', 'idade': 32, 'cidade': 'Rio de Janeiro', 'sobrenome': 'Leão'}\n",
      "Nome: Henry\n",
      "Idade: 32\n",
      "{'nome': 'Henry', 'idade': 32, 'cidade': 'Rio de Janeiro'}\n",
      "dict_keys(['nome', 'idade', 'cidade'])\n",
      "dict_values(['Henry', 32, 'Rio de Janeiro'])\n",
      "dict_items([('nome', 'Henry'), ('idade', 32), ('cidade', 'Rio de Janeiro')])\n"
     ]
    }
   ],
   "source": [
    "pessoa = {\n",
    "    \"nome\": \"Henry\",\n",
    "    \"idade\": 32,\n",
    "    \"cidade\": \"Rio de Janeiro\",\n",
    "    \"sobrenome\": \"Leão\"}\n",
    "\n",
    "print(\"Meu dicionario:\", pessoa)\n",
    "print(\"Nome:\", pessoa[\"nome\"])\n",
    "print(\"Idade:\", pessoa[\"idade\"])\n",
    "\n",
    "##Removendo\n",
    "del pessoa[\"sobrenome\"]\n",
    "print(pessoa)\n",
    "\n",
    "## Metodos: keys(), values(), items()\n",
    "print(pessoa.keys())\n",
    "print(pessoa.values())\n",
    "print(pessoa.items())"
   ]
  },
  {
   "cell_type": "markdown",
   "id": "f1a7ef2f",
   "metadata": {},
   "source": [
    "## CONDICIONAIS / ENTRADA DE DADOS"
   ]
  },
  {
   "cell_type": "code",
   "execution_count": 11,
   "id": "6a58e6bb",
   "metadata": {},
   "outputs": [
    {
     "name": "stdout",
     "output_type": "stream",
     "text": [
      "Continuar\n",
      "Maior de idade 31\n",
      "Você pode tira carteira de habilitação.\n"
     ]
    }
   ],
   "source": [
    "# Importa biblioteca random\n",
    "import random\n",
    "entrada = input(\"Deseja continuar? (S/N)\")\n",
    "if entrada == \"S\":\n",
    "        print(\"Continuar\")\n",
    "        idade = random.randint(0, 80)\n",
    "\n",
    "        if idade >= 18 and idade <= 65:\n",
    "            print(\"Maior de idade\", idade)\n",
    "        elif idade >= 65:\n",
    "            print(\"Idoso\", idade)\n",
    "        else:\n",
    "            print(\"Menor de idade\", idade)\n",
    "\n",
    "        mensagem = \"Você pode tira carteira de habilitação.\" if idade >= 18 else \"Você não pode tirar a carteira de habilitação.\"\n",
    "        print(mensagem)\n",
    "else:\n",
    "    print(\"Sair\")\n"
   ]
  },
  {
   "cell_type": "markdown",
   "id": "5b9b211d",
   "metadata": {},
   "source": [
    "## LOOP"
   ]
  },
  {
   "cell_type": "code",
   "execution_count": 12,
   "id": "2bfc1a1b",
   "metadata": {},
   "outputs": [
    {
     "name": "stdout",
     "output_type": "stream",
     "text": [
      "Lista:\n",
      "1\n",
      "2\n",
      "3\n",
      "4\n",
      "5\n",
      "Tupla:\n",
      "1\n",
      "2\n",
      "3\n",
      "4\n",
      "5\n",
      "Dicionario:\n",
      "a\n",
      "b\n",
      "c\n",
      "d\n",
      "e\n",
      "1\n",
      "2\n",
      "3\n",
      "4\n",
      "5\n",
      "a 1\n",
      "b 2\n",
      "c 3\n",
      "d 4\n",
      "e 5\n"
     ]
    }
   ],
   "source": [
    "print(\"Lista:\")\n",
    "lista = [1, 2, 3, 4, 5]\n",
    "for item in lista:\n",
    "    print(item)\n",
    "\n",
    "print(\"Tupla:\")\n",
    "tupla = (1, 2, 3, 4, 5)\n",
    "for item in tupla:\n",
    "    print(item)\n",
    "\n",
    "print(\"Dicionario:\")\n",
    "dicionario = {\"a\": 1, \"b\": 2, \"c\": 3, \"d\": 4, \"e\": 5}\n",
    "\n",
    "for chave in dicionario.keys():\n",
    "    print(chave)\n",
    "\n",
    "for valor in dicionario.values():\n",
    "    print(valor)\n",
    "\n",
    "for chave, valor in dicionario.items():\n",
    "    print(chave, valor)"
   ]
  },
  {
   "cell_type": "code",
   "execution_count": null,
   "id": "fd7147e3",
   "metadata": {},
   "outputs": [
    {
     "name": "stdout",
     "output_type": "stream",
     "text": [
      "\n",
      " Função range()\n",
      "Numero: 0\n",
      "Numero: 1\n",
      "Numero: 2\n",
      "Numero: 3\n",
      "Numero: 4\n",
      "\n",
      " Função range() com len()\n",
      "[1, 2, 3, 4, 5]\n",
      "Indice: 0\n",
      "Elemento: 1\n",
      "Indice: 1\n",
      "Elemento: 2\n",
      "Indice: 2\n",
      "Elemento: 3\n",
      "Indice: 3\n",
      "Elemento: 4\n",
      "Indice: 4\n",
      "Elemento: 5\n",
      "[1, 2, 3, 5, 5]\n"
     ]
    }
   ],
   "source": [
    "## Funções\n",
    "\n",
    "print(\"\\n Função range()\")\n",
    "for numero in range(5):\n",
    "    print(\"Numero:\", numero)\n",
    "\n",
    "print(\"\\n Função range() com len()\")\n",
    "lista = [1,2,3,4,5]\n",
    "print(lista)\n",
    "for indice in range(0, len(lista)):\n",
    "    print(\"Indice:\", indice)\n",
    "    print(\"Elemento:\", lista[indice])\n",
    "    if indice == 3:\n",
    "        lista[indice] = 5\n",
    "    else:\n",
    "        lista[indice] = 0\n",
    "print(lista)\n",
    "\n",
    "lsita_enumerate = [\"a\",\"b\",\"c\"]\n",
    "for indice, valor in enumerate(lsita_enumerate):\n",
    "    print(f\"{indice}: {valor}\")\n",
    "    if indice == 1:\n",
    "        print(\"Indice 1\")\n"
   ]
  },
  {
   "cell_type": "code",
   "execution_count": null,
   "id": "ea7ff3e0",
   "metadata": {},
   "outputs": [
    {
     "name": "stdout",
     "output_type": "stream",
     "text": [
      "Contagem: 0\n",
      "Contagem: 1\n",
      "Contagem: 2\n",
      "Contagem: 3\n",
      "Contagem: 4\n",
      "Contagem: 5\n",
      "Contagem: 6\n",
      "Contagem: 7\n",
      "Contagem: 8\n",
      "Contagem: 9\n"
     ]
    }
   ],
   "source": [
    "# While\n",
    "contador = 0\n",
    "while contador < 10:\n",
    "    print(\"Contagem:\",contador)\n",
    "    contador += 1\n",
    "    if contador == 10:\n",
    "        break"
   ]
  },
  {
   "cell_type": "code",
   "execution_count": 5,
   "id": "dda617d5",
   "metadata": {},
   "outputs": [
    {
     "name": "stdout",
     "output_type": "stream",
     "text": [
      "Ola mundo\n"
     ]
    }
   ],
   "source": [
    "def saudacao():\n",
    "    print(\"Ola mundo\")\n",
    "\n",
    "saudacao()"
   ]
  },
  {
   "cell_type": "markdown",
   "id": "1ee3023f",
   "metadata": {},
   "source": [
    "## EXCEÇÕES"
   ]
  },
  {
   "cell_type": "code",
   "execution_count": null,
   "id": "a10395d4",
   "metadata": {},
   "outputs": [],
   "source": [
    "try:\n",
    "   numero = int(input(\"Digite um numero: \"))\n",
    "   resultado = 10 / numero\n",
    "except ValueError as erro:\n",
    "    print(\"Erro de valor:\", erro)\n",
    "    raise ValueError(\"Tipo de variavel incompativel\")\n",
    "except Exception as erro:\n",
    "    print(\"Erro:\", erro)\n",
    "else:\n",
    "    print(\"Resultado:\", resultado)\n",
    "finally:\n",
    "    print(\"Fim da execucao\")"
   ]
  }
 ],
 "metadata": {
  "kernelspec": {
   "display_name": "python-classes",
   "language": "python",
   "name": "python3"
  },
  "language_info": {
   "codemirror_mode": {
    "name": "ipython",
    "version": 3
   },
   "file_extension": ".py",
   "mimetype": "text/x-python",
   "name": "python",
   "nbconvert_exporter": "python",
   "pygments_lexer": "ipython3",
   "version": "3.12.3"
  }
 },
 "nbformat": 4,
 "nbformat_minor": 5
}
