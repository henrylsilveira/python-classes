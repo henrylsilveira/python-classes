{
 "cells": [
  {
   "cell_type": "markdown",
   "id": "07dc478d",
   "metadata": {},
   "source": [
    "## Programação Orientada a Objeto"
   ]
  },
  {
   "cell_type": "code",
   "execution_count": 1,
   "id": "8db73370",
   "metadata": {},
   "outputs": [
    {
     "name": "stdout",
     "output_type": "stream",
     "text": [
      "Nome:  Henry\n",
      "Nome:  Maria\n",
      "Oi, meu nome é Henry e eu tenho 32 anos.\n",
      "Oi, meu nome é Maria e eu tenho 25 anos.\n"
     ]
    }
   ],
   "source": [
    "# Classe exemplo\n",
    "\n",
    "class Pessoa:\n",
    "    def __init__(self, nome, idade):\n",
    "        self.nome = nome\n",
    "        self.idade = idade\n",
    "\n",
    "    def saudacao(self):\n",
    "        return f'Oi, meu nome é {self.nome} e eu tenho {self.idade} anos.'\n",
    "\n",
    "# Objetos\n",
    "pessoa1 = Pessoa('Henry', 32)\n",
    "pessoa2 = Pessoa('Maria', 25)\n",
    "\n",
    "print(\"Nome: \", pessoa1.nome)\n",
    "print(\"Nome: \", pessoa2.nome)\n",
    "\n",
    "print(pessoa1.saudacao())\n",
    "print(pessoa2.saudacao())\n"
   ]
  },
  {
   "cell_type": "markdown",
   "id": "b1c39898",
   "metadata": {},
   "source": [
    "## Herança"
   ]
  },
  {
   "cell_type": "code",
   "execution_count": 1,
   "id": "7d8aea3f",
   "metadata": {},
   "outputs": [],
   "source": [
    "class Animal:\n",
    "    def __init__(self, nome):\n",
    "        self.nome = nome\n",
    "\n",
    "    def emitir_som(self):\n",
    "        pass\n",
    "\n",
    "    def andar(self):\n",
    "        print(f'O animal {self.nome} andou.')\n",
    "\n",
    "class Cachorro(Animal):\n",
    "    def emitir_som(self):\n",
    "        return \"Au, au!\"\n",
    "\n",
    "class Gato(Animal):\n",
    "    def emitir_som(self):\n",
    "        return \"Miau!\"\n",
    "    \n",
    "dog = Cachorro(\"Rex\")\n",
    "cat = Gato(\"Felix\")"
   ]
  },
  {
   "cell_type": "markdown",
   "id": "d538cbd5",
   "metadata": {},
   "source": [
    "## Polimorfismo"
   ]
  },
  {
   "cell_type": "code",
   "execution_count": 2,
   "id": "7d825944",
   "metadata": {},
   "outputs": [
    {
     "name": "stdout",
     "output_type": "stream",
     "text": [
      "Rex faz: Au, au!\n",
      "Felix faz: Miau!\n"
     ]
    }
   ],
   "source": [
    "animais = [dog, cat]\n",
    "\n",
    "for animal in animais:\n",
    "    print(f\"{animal.nome} faz: {animal.emitir_som()}\")\n"
   ]
  },
  {
   "cell_type": "markdown",
   "id": "02500ae2",
   "metadata": {},
   "source": [
    "## Encapsulamento"
   ]
  },
  {
   "cell_type": "code",
   "execution_count": 6,
   "id": "756f031b",
   "metadata": {},
   "outputs": [
    {
     "name": "stdout",
     "output_type": "stream",
     "text": [
      "Saldo da conta bancaria: 1000\n",
      "Saldo da conta bancaria: 1500\n",
      "Saldo da conta bancaria: 2000\n",
      "Saldo da conta bancaria: 2000\n"
     ]
    }
   ],
   "source": [
    "class ContaBancaria:\n",
    "    def __init__(self, saldo):\n",
    "        self.__saldo = saldo # Atributo privado\n",
    "\n",
    "    def depositar(self, valor):\n",
    "        if valor > 0 :\n",
    "            self.__saldo += valor\n",
    "    \n",
    "    def sacar(self, valor):\n",
    "        if valor > 0 and valor <= self.__saldo:\n",
    "            self.__saldo -= valor\n",
    "    \n",
    "    def consultar_saldo(self):\n",
    "        return self.__saldo\n",
    "    \n",
    "conta = ContaBancaria(1000)\n",
    "print(f\"Saldo da conta bancaria: {conta.consultar_saldo()}\")\n",
    "conta.depositar(500)\n",
    "print(f\"Saldo da conta bancaria: {conta.consultar_saldo()}\")\n",
    "conta.depositar(500)\n",
    "print(f\"Saldo da conta bancaria: {conta.consultar_saldo()}\")\n",
    "conta.sacar(2100)\n",
    "print(f\"Saldo da conta bancaria: {conta.consultar_saldo()}\")"
   ]
  },
  {
   "cell_type": "markdown",
   "id": "8a29ffa4",
   "metadata": {},
   "source": [
    "## Abstração"
   ]
  },
  {
   "cell_type": "code",
   "execution_count": 8,
   "id": "91577674",
   "metadata": {},
   "outputs": [
    {
     "name": "stdout",
     "output_type": "stream",
     "text": [
      "Carro ligado\n",
      "Carro desligado\n"
     ]
    }
   ],
   "source": [
    "from abc import ABC, abstractmethod\n",
    "\n",
    "class Veiculo(ABC):\n",
    "\n",
    "    @abstractmethod\n",
    "    def ligar(self):\n",
    "        pass\n",
    "\n",
    "    @abstractmethod\n",
    "    def desligar(self):\n",
    "        pass\n",
    "\n",
    "class Carro(Veiculo):\n",
    "    def __init__(self):\n",
    "        pass\n",
    "\n",
    "    def ligar(self):\n",
    "        print(\"Carro ligado\")\n",
    "\n",
    "    def desligar(self):\n",
    "        print(\"Carro desligado\")\n",
    "\n",
    "carro_amarelo = Carro()\n",
    "carro_amarelo.ligar()\n",
    "carro_amarelo.desligar()"
   ]
  },
  {
   "cell_type": "markdown",
   "id": "d1a42d6a",
   "metadata": {},
   "source": [
    "## Herança Múltipla"
   ]
  },
  {
   "cell_type": "code",
   "execution_count": 10,
   "id": "ed3441c7",
   "metadata": {},
   "outputs": [
    {
     "name": "stdout",
     "output_type": "stream",
     "text": [
      "Nome: Batman\n",
      "Som do morcego: Morcegos emitem sons ultrassônicos\n",
      "Amamentar: Batman está amementando\n",
      "Voar: Batman está voando.\n"
     ]
    }
   ],
   "source": [
    "class Animal:\n",
    "    def __init__(self, nome):\n",
    "        self.nome = nome\n",
    "\n",
    "    def emitir_som(self):\n",
    "        pass\n",
    "class Mamifero(Animal):\n",
    "    def amamentar(self):\n",
    "        return f\"{self.nome} está amementando\"\n",
    "class Ave(Animal):\n",
    "    def voar(self):\n",
    "        return f\"{self.nome} está voando.\"\n",
    "    \n",
    "class Morcego(Mamifero, Ave):\n",
    "    def emitir_som(self):\n",
    "        return \"Morcegos emitem sons ultrassônicos\"\n",
    "    \n",
    "morcego = Morcego(\"Batman\")\n",
    "print(\"Nome:\", morcego.nome)\n",
    "print(\"Som do morcego:\",morcego.emitir_som())\n",
    "print(\"Amamentar:\", morcego.amamentar())\n",
    "print(\"Voar:\",morcego.voar())"
   ]
  },
  {
   "cell_type": "markdown",
   "id": "3bdd3c1d",
   "metadata": {},
   "source": [
    "## Decoradores"
   ]
  },
  {
   "cell_type": "code",
   "execution_count": 16,
   "id": "16e1e8bd",
   "metadata": {},
   "outputs": [
    {
     "name": "stdout",
     "output_type": "stream",
     "text": [
      "Antes da execução da função\n",
      "Minha funcao foi chamada\n",
      "Depois da execução da função\n",
      "Antes da função ser chamada (decorador de classe)\n",
      "Segunda funcao foi chamada\n",
      "Depois da função ser chamada\n"
     ]
    }
   ],
   "source": [
    "def meu_decorador(func):\n",
    "    def wrapper():\n",
    "        print(\"Antes da execução da função\")\n",
    "        func()\n",
    "        print(\"Depois da execução da função\")\n",
    "    return wrapper\n",
    "\n",
    "@meu_decorador\n",
    "def minha_funcao():\n",
    "    print(\"Minha funcao foi chamada\")\n",
    "\n",
    "minha_funcao()\n",
    "\n",
    "class MeuDecoradorDeClasse:\n",
    "    def __init__(self, func) -> None:\n",
    "        self.func = func\n",
    "\n",
    "    def __call__(self) -> any:\n",
    "        print(\"Antes da função ser chamada (decorador de classe)\")\n",
    "        self.func()\n",
    "        print(\"Depois da função ser chamada\")\n",
    "\n",
    "@MeuDecoradorDeClasse\n",
    "def segunda_funcao():\n",
    "    print(\"Segunda funcao foi chamada\")\n",
    "\n",
    "segunda_funcao()"
   ]
  }
 ],
 "metadata": {
  "kernelspec": {
   "display_name": "python-classes",
   "language": "python",
   "name": "python3"
  },
  "language_info": {
   "codemirror_mode": {
    "name": "ipython",
    "version": 3
   },
   "file_extension": ".py",
   "mimetype": "text/x-python",
   "name": "python",
   "nbconvert_exporter": "python",
   "pygments_lexer": "ipython3",
   "version": "3.12.3"
  }
 },
 "nbformat": 4,
 "nbformat_minor": 5
}
